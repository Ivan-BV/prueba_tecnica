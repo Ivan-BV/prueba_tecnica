{
 "cells": [
  {
   "cell_type": "markdown",
   "metadata": {},
   "source": [
    "# Extracción de datos con la API MoviesDatabase"
   ]
  },
  {
   "cell_type": "code",
   "execution_count": 48,
   "metadata": {},
   "outputs": [],
   "source": [
    "# Tratamiento de datos\n",
    "# ------------------------\n",
    "import pandas as pd\n",
    "import numpy as np\n",
    "\n",
    "# Cargamos el archivo env\n",
    "# ------------------------\n",
    "import dotenv\n",
    "dotenv.load_dotenv()\n",
    "import os\n",
    "\n",
    "# Para hacer las llamadas a la API\n",
    "# ------------------------\n",
    "import requests\n",
    "\n",
    "# Otros\n",
    "# ------------------------\n",
    "from time import sleep\n",
    "import pickle"
   ]
  },
  {
   "cell_type": "code",
   "execution_count": null,
   "metadata": {},
   "outputs": [],
   "source": [
    "key = os.getenv(\"key\")\n",
    "host = os.getenv(\"host\")\n",
    "\n",
    "url = \"https://moviesdatabase.p.rapidapi.com/titles\"\n",
    "\n",
    "headers = {\n",
    "\t\"x-rapidapi-key\": key,\n",
    "\t\"x-rapidapi-host\": host\n",
    "}\n",
    "\n",
    "lista_generos = [\"Drama\", \"Comedy\", \"Action\", \"Fantasy\", \"Horror\", \"Mystery\", \"Romance\", \"Thriller\"]\n",
    "lista_tipos = [\"movie\", \"short\"]\n",
    "lista_final = []\n",
    "for genero in lista_generos:\n",
    "    for anio in range(1990, 2025):\n",
    "        for tipo in lista_tipos:\n",
    "            querystring = {\n",
    "                \"genre\": genero,\n",
    "                \"titleType\": tipo,\n",
    "                \"year\": anio,\n",
    "                \"sort\": \"year.decr\",\n",
    "                \"limit\": \"50\"\n",
    "            }\n",
    "            res = requests.get(url, headers=headers, params=querystring)\n",
    "            if res.status_code == 200:\n",
    "                try:\n",
    "                    contenido = res.json()\n",
    "                    resultados = contenido[\"results\"]\n",
    "                    if len(resultados) > 0:\n",
    "                        lista_peliculas = [resultado for resultado in resultados]\n",
    "                        \n",
    "                        \n",
    "                        for pelicula in lista_peliculas:\n",
    "                            id_peli = pelicula[\"id\"]\n",
    "                            nombre_peli = pelicula[\"titleText\"][\"text\"]\n",
    "                            anio_peli = pelicula[\"releaseYear\"][\"year\"]\n",
    "                            if pelicula[\"releaseDate\"] is not None:\n",
    "                                mes_peli = pelicula[\"releaseDate\"][\"month\"]\n",
    "                            else:\n",
    "                                mes_peli = \"Desconocido\"\n",
    "                            lista_final.append((id_peli, nombre_peli, tipo, genero.lower(), anio_peli, mes_peli))\n",
    "                    else:\n",
    "                        break\n",
    "                except:\n",
    "                    print(f\"Error en la busqueda de peliculas: \\nGenero: {genero}, \\nAnio: {anio}, \\nTipo: {tipo}\")\n",
    "                    print(f\"Pelicula: {pelicula}\")\n",
    "                    with open(\"datos/raw/lista.pkl\", \"wb\") as file:\n",
    "                        pickle.dump(lista_final, file)\n",
    "                    pass\n",
    "            else:\n",
    "                print(f\"Error status code: {res.status_code}\")\n",
    "        sleep(0.5)\n",
    "    sleep(0.5)"
   ]
  },
  {
   "cell_type": "code",
   "execution_count": 56,
   "metadata": {},
   "outputs": [],
   "source": [
    "with open(\"../datos/raw/lista.pkl\", \"wb\") as file:\n",
    "    pickle.dump(lista_final, file)"
   ]
  },
  {
   "cell_type": "code",
   "execution_count": 57,
   "metadata": {},
   "outputs": [],
   "source": [
    "with open(\"../datos/raw/lista.pkl\", \"rb\") as file:\n",
    "    lista_leida = pickle.load(file)"
   ]
  },
  {
   "cell_type": "code",
   "execution_count": 59,
   "metadata": {},
   "outputs": [
    {
     "data": {
      "text/plain": [
       "[('tt25424920', 'Loaded Deliberation', 'short', 'thriller', 2024, None),\n",
       " ('tt26237980', 'Bugbear III', 'short', 'thriller', 2024, 3),\n",
       " ('tt26687569', 'Showpiece', 'short', 'thriller', 2024, None),\n",
       " ('tt27053740', 'A Christmas Gift', 'short', 'thriller', 2024, 1),\n",
       " ('tt27420708', 'Long Way Out', 'short', 'thriller', 2024, None)]"
      ]
     },
     "execution_count": 59,
     "metadata": {},
     "output_type": "execute_result"
    }
   ],
   "source": [
    "lista_leida[:5]"
   ]
  },
  {
   "cell_type": "markdown",
   "metadata": {},
   "source": [
    "### Web Scraping"
   ]
  },
  {
   "cell_type": "code",
   "execution_count": 7,
   "metadata": {},
   "outputs": [],
   "source": [
    "# Imports web scraping\n",
    "# ----------------------------------------------------------\n",
    "from selenium.webdriver.support.ui import WebDriverWait\n",
    "from selenium.webdriver.common.by import By\n",
    "from selenium.webdriver.support import expected_conditions as EC\n",
    "from time import sleep\n",
    "from selenium import webdriver"
   ]
  },
  {
   "cell_type": "code",
   "execution_count": 43,
   "metadata": {},
   "outputs": [
    {
     "data": {
      "text/plain": [
       "'100'"
      ]
     },
     "execution_count": 43,
     "metadata": {},
     "output_type": "execute_result"
    }
   ],
   "source": [
    "url = \"https://www.imdb.com/es-es/title/\"\n",
    "id = \"tt0059325\"\n",
    "\n",
    "driver = webdriver.Chrome()\n",
    "driver.get(f\"{url}{id}\")\n",
    "driver.maximize_window()\n",
    "driver.implicitly_wait(5)\n",
    "sleep(1)\n",
    "driver.find_element(\"xpath\", '//*[@id=\"__next\"]/div/div/div[2]/div/button[2]').click()\n",
    "sleep(0.5)\n",
    "direcciones = driver.find_elements(\"xpath\", '//*[@id=\"__next\"]/main/div/section[1]/section/div[3]/section/section/div[3]/div[2]/div[2]/div[2]/div/ul/li[1]/div/ul')\n",
    "lista_directores = []\n",
    "for n in range(1, len(direcciones)):\n",
    "        direccion = WebDriverWait(driver, 10).until(EC.element_to_be_clickable((By.XPATH, f'//*[@id=\"__next\"]/main/div/section[1]/section/div[3]/section/section/div[3]/div[2]/div[1]/section/div[2]/div/ul/li[1]/div/ul/li[{n}]]')))\n",
    "        lista_directores.append(direccion.text)\n",
    "        sleep(0.2)\n",
    "lista_guionistas = driver.find_element(\"xpath\", '//*[@id=\"__next\"]/main/div/section[1]/section/div[3]/section/section/div[3]/div[2]/div[2]/div[2]/div/ul/li[2]/div/ul')\n",
    "for n in range(1, len(direcciones)):\n",
    "        direccion = WebDriverWait(driver, 10).until(EC.element_to_be_clickable((By.XPATH, f'//*[@id=\"__next\"]/main/div/section[1]/section/div[3]/section/section/div[3]/div[2]/div[1]/section/div[2]/div/ul/li[2]/div/ul/li[{n}]')))\n",
    "        lista_directores.append(direccion.text)\n",
    "        sleep(0.2)\n",
    "puntuacion = driver.find_element(\"xpath\", '//*[@id=\"__next\"]/main/div/section[1]/section/div[3]/section/section/div[2]/div[2]/div/div[1]/a/span/div/div[2]/div[1]/span[1]').text\n",
    "argumento = driver.find_element(\"xpath\", '//*[@id=\"__next\"]/main/div/section[1]/div/section/div/div[1]/section[5]/div[2]/div[1]/div/div/div').text\n",
    "\n",
    "url_especificaciones = driver.find_element(\"xpath\", '//*[@id=\"__next\"]/main/div/section[1]/div/section/div/div[1]/section[9]/div[1]/div/a').get_attribute(\"href\")\n",
    "driver.get(url_especificaciones)\n",
    "sleep(1)\n",
    "duracion = driver.find_element(\"xpath\", '//*[@id=\"runtime\"]/div/ul/li/span[2]').text\n",
    "duracion = str(duracion).split(\" \")[0].replace(\"(\", \"\").replace(\")\", \"\")\n",
    "duracion"
   ]
  }
 ],
 "metadata": {
  "kernelspec": {
   "display_name": "prueba_tecnica",
   "language": "python",
   "name": "python3"
  },
  "language_info": {
   "codemirror_mode": {
    "name": "ipython",
    "version": 3
   },
   "file_extension": ".py",
   "mimetype": "text/x-python",
   "name": "python",
   "nbconvert_exporter": "python",
   "pygments_lexer": "ipython3",
   "version": "3.12.8"
  }
 },
 "nbformat": 4,
 "nbformat_minor": 2
}
